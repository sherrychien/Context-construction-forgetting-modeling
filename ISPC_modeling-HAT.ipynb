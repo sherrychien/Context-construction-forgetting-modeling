{
 "cells": [
  {
   "cell_type": "code",
   "execution_count": 1,
   "metadata": {
    "collapsed": true
   },
   "outputs": [],
   "source": [
    "import numpy as np\n",
    "import HAT_model as HAT\n",
    "import HAT_model_NR as HAT_NR\n",
    "import sequence as seq\n",
    "from scipy import stats\n",
    "%matplotlib inline\n",
    "import matplotlib.pyplot as plt\n",
    "import matplotlib.patches as mpatches\n",
    "import copy\n",
    "import random\n",
    "np.set_printoptions(threshold=np.nan)\n"
   ]
  },
  {
   "cell_type": "code",
   "execution_count": 2,
   "metadata": {
    "collapsed": true
   },
   "outputs": [],
   "source": [
    "#generate sequence with different levels of scrambling\n",
    "def seq_scramble(t, arr_size, seg_len, filler_long, filler_short, intact, noise_level, scramble):\n",
    "    seq = np.zeros((0,arr_size))\n",
    "    label = []\n",
    "    para= np.arange(int(arr_size/seg_len))\n",
    "    para_label=[]\n",
    "    for n in range (t):\n",
    "        for i in range(filler_long):\n",
    "                filler = np.random.uniform(-1,1,size=arr_size)\n",
    "                seq = np.concatenate((seq,[filler]),0)\n",
    "                label.append(100)\n",
    "        fil=np.repeat(1000, filler_short)\n",
    "        shuffle = [np.append(intact[x:x+seg_len],fil) for x in range(0,len(intact),seg_len)]\n",
    "        shuffle_label=list(zip(shuffle,para))\n",
    "        if scramble==True:\n",
    "            b = np.random.permutation(shuffle_label)\n",
    "        else:\n",
    "            b=np.asarray(shuffle_label) \n",
    "        flat=[]\n",
    "        for i in range(len(b)):\n",
    "            flat.append(b[i][0])\n",
    "            para_label.append(b[i][1])\n",
    "        flat = np.asarray(flat)\n",
    "        flat = flat.flatten()\n",
    "        for x in range(len(flat)):\n",
    "            if flat[x]==100 or flat[x]==1000:\n",
    "                filler = np.random.uniform(-1,1,size=arr_size)\n",
    "                seq = np.concatenate((seq,[filler]),0)\n",
    "            else:\n",
    "                bipolar = np.zeros((arr_size))-1\n",
    "                noise = np.random.uniform(-noise_level,noise_level,size=arr_size)\n",
    "                bipolar[flat[x]] = 1\n",
    "                bipolar = bipolar + noise\n",
    "                seq = np.concatenate((seq,[bipolar]),axis=0)\n",
    "            label.append(flat[x])\n",
    "\n",
    "    return label, seq, para_label\n"
   ]
  },
  {
   "cell_type": "code",
   "execution_count": 3,
   "metadata": {
    "collapsed": true
   },
   "outputs": [],
   "source": [
    "def remove_mean(H):\n",
    "    n1=copy.deepcopy(H[0])\n",
    "    n2 = copy.deepcopy(H[1])\n",
    "    n3 = copy.deepcopy(H[2])\n",
    "    s = np.shape(n1) \n",
    "    nm_t = np.append([np.mean(n1,0)],[np.mean(n2,0),np.mean(n3,0)],0)\n",
    "    ns_t = np.append([np.std(n1,0)],[np.std(n2,0),np.std(n3,0)],0)\n",
    "\n",
    "    for i in range (0,s[1]):\n",
    "        for j in range (0,s[0]):\n",
    "            n1[j,i]=n1[j,i]-nm_t[0,i]\n",
    "            n2[j,i]=n2[j,i]-nm_t[1,i]\n",
    "            n3[j,i]=n3[j,i]-nm_t[2,i]\n",
    "\n",
    "    \n",
    "    nm_hp = np.append([np.mean(n1,1)],[np.mean(n2,1),np.mean(n3,1)],0)\n",
    "    ns_hp = np.append([np.std(n1,1)],[np.std(n2,1),np.std(n3,1)],0)\n",
    "\n",
    "    for i in range (0,s[1]):\n",
    "        for j in range (0,s[0]):        \n",
    "            n1[j,i]=(n1[j,i]-nm_hp[0,j])/ns_hp[0,j]\n",
    "            n2[j,i]=(n2[j,i]-nm_hp[1,j])/ns_hp[1,j]\n",
    "            n3[j,i]=(n3[j,i]-nm_hp[2,j])/ns_hp[2,j]\n",
    "            \n",
    "\n",
    "    s = np.shape(n1) \n",
    "    nm_t = np.append([np.mean(n1,0)],[np.mean(n2,0),np.mean(n3,0)],0)\n",
    "    ns_t = np.append([np.std(n1,0)],[np.std(n2,0),np.std(n3,0)],0)\n",
    "\n",
    "    for i in range (0,s[1]):\n",
    "        for j in range (0,s[0]):\n",
    "            n1[j,i]=n1[j,i]-nm_t[0,i]\n",
    "            n2[j,i]=n2[j,i]-nm_t[1,i]\n",
    "            n3[j,i]=n3[j,i]-nm_t[2,i]\n",
    "\n",
    "    return [n1,n2,n3]"
   ]
  },
  {
   "cell_type": "code",
   "execution_count": 4,
   "metadata": {
    "collapsed": true
   },
   "outputs": [],
   "source": [
    "#train multiple intact sequences with fillers between each sequence\n",
    "seq_len = 30\n",
    "para_len = 6\n",
    "noise_level=0.1\n",
    "training_len= 300\n",
    "filler_between = 10\n",
    "filler_within = 0\n",
    "intact = np.arange(seq_len)\n",
    "intact2 = np.random.permutation(intact)\n",
    "train_seq, bipolar_seq,train_para = seq_scramble(training_len,seq_len,para_len,filler_between,filler_within,intact,noise_level,False)\n",
    "bipolar_seq_shuffle = np.random.permutation(bipolar_seq)\n"
   ]
  },
  {
   "cell_type": "code",
   "execution_count": 5,
   "metadata": {
    "collapsed": true,
    "scrolled": false
   },
   "outputs": [],
   "source": [
    "# test 1. intact 2. long-scale scrambled sequence\n",
    "seq_len = 30\n",
    "para_len = 6\n",
    "noise_level=0.1\n",
    "testing_len=30\n",
    "filler_between = 10\n",
    "filler_within = 0\n",
    "intact = np.arange(seq_len)\n",
    "test_int_seq, bipolar_int_seq,para_int = seq_scramble(testing_len,seq_len,para_len,filler_between,filler_within,intact,noise_level,False)\n",
    "test_scram_seq, bipolar_scram_seq, para_scram = seq_scramble(testing_len,seq_len,para_len,filler_between,filler_within,intact,noise_level,True)\n"
   ]
  },
  {
   "cell_type": "code",
   "execution_count": 6,
   "metadata": {
    "collapsed": true
   },
   "outputs": [],
   "source": [
    "#train the model\n",
    "tau = [0.2,0.5,0.8] #tau for training model\n",
    "learning_rate=[0.05,0.05,0.05] \n",
    "ws = 0.5 #initial weights scale\n",
    "nip=0 #noise to be added on the input in each layer\n",
    "ip_noise_i = [nip,nip,nip]\n",
    "ip_noise_p = [nip,nip,nip]\n",
    "\n",
    "s = np.shape(bipolar_seq)\n",
    "IH_wts_noise = ws*(2*np.random.rand(2*s[1]+1, s[1])-1)\n",
    "HO_wts_noise = ws*(2*np.random.rand(s[1]+1, 2*s[1])-1)\n",
    "IH_wts1_noise = ws*(2*np.random.rand(2*s[1]+1, s[1])-1)\n",
    "HO_wts1_noise = ws*(2*np.random.rand(s[1]+1, 2*s[1])-1)\n",
    "IH_wts2_noise = ws*(2*np.random.rand(2*s[1]+1, s[1])-1)\n",
    "HO_wts2_noise = ws*(2*np.random.rand(s[1]+1, 2*s[1])-1)\n",
    "\n",
    "k= [1,1,1] #scaling parameter for surprisal\n",
    "obj='max'    \n",
    "Modeltype='full'\n",
    "# Modeltype='Hid_only'\n",
    "wts=HAT_NR.HAT_learn(bipolar_seq,IH_wts_noise,HO_wts_noise,IH_wts1_noise,HO_wts1_noise,\\\n",
    "                    IH_wts2_noise,HO_wts2_noise,learning_rate,tau,Modeltype,obj,k,ip_noise_i)\n",
    "\n",
    "def test_wts(seq,wts,tau, Modeltype,obj,k, ip_noise):\n",
    "        test_wts = HAT_NR.HAT_test(seq,wts['IH_wts'], wts['HO_wts'], wts['IH_wts1'], wts['HO_wts1'], wts['IH_wts2'], wts['HO_wts2'],tau, Modeltype,obj,k,ip_noise)  \n",
    "    \n",
    "        return test_wts\n",
    "    \n",
    "\n",
    "#testing the model\n",
    "Modeltype='full'\n",
    "# Modeltype='Hid_only'\n",
    "tau_test = [0.2,0.5,0.8] #tau for testing model\n",
    "\n",
    "test_i = test_wts(bipolar_int_seq,wts,tau_test, Modeltype,obj,k, ip_noise_i)\n",
    "H_i = [test_i['Hid'],test_i['Hid1'],test_i['Hid2']]\n",
    "test_p = test_wts(bipolar_scram_seq,wts,tau_test, Modeltype,obj,k, ip_noise_p)\n",
    "H_p = [test_p['Hid'],test_p['Hid1'],test_p['Hid2']]\n",
    "\n",
    "#remove the mean and normalize the hidden representations\n",
    "H_i1=remove_mean(H_i)\n",
    "H_p1=remove_mean(H_p)"
   ]
  },
  {
   "cell_type": "code",
   "execution_count": 7,
   "metadata": {
    "scrolled": true
   },
   "outputs": [],
   "source": [
    "#addind noise to create fake \"subjects\"\n",
    "noise_to_levels_i=[0.5,0.5,0.5]\n",
    "noise_to_levels_p=[0.5,0.5,0.5]\n",
    "\n",
    "H_i_all=[]\n",
    "H_p_all=[]\n",
    "\n",
    "n_sbj = 30\n",
    "for i in range(n_sbj):\n",
    "    n0=np.random.normal(0,noise_to_levels_i[0],np.shape(H_i[0]))\n",
    "    n1=np.random.normal(0,noise_to_levels_i[1],np.shape(H_i[0]))\n",
    "    n2=np.random.normal(0,noise_to_levels_i[2],np.shape(H_i[0]))\n",
    "    n=[n0,n1,n2]\n",
    "    \n",
    "    H_i_sbj = H_i1 + np.array(n)\n",
    "    H_i_all.append(H_i_sbj)\n",
    "    \n",
    "for i in range(n_sbj):\n",
    "    n0=np.random.normal(0,noise_to_levels_p[0],np.shape(H_p[0]))\n",
    "    n1=np.random.normal(0,noise_to_levels_p[1],np.shape(H_p[0]))\n",
    "    n2=np.random.normal(0,noise_to_levels_p[2],np.shape(H_p[0]))\n",
    "    n=[n0,n1,n2]\n",
    "    \n",
    "    H_p_sbj = H_p1 + np.array(n)\n",
    "    H_p_all.append(H_p_sbj)\n"
   ]
  },
  {
   "cell_type": "code",
   "execution_count": 8,
   "metadata": {
    "collapsed": true
   },
   "outputs": [],
   "source": [
    "H_i_all=np.asarray(H_i_all)\n",
    "H_p_all=np.asarray(H_p_all)"
   ]
  },
  {
   "cell_type": "code",
   "execution_count": 9,
   "metadata": {},
   "outputs": [
    {
     "data": {
      "text/plain": [
       "[<matplotlib.lines.Line2D at 0x10d1b82b0>]"
      ]
     },
     "execution_count": 9,
     "metadata": {},
     "output_type": "execute_result"
    },
    {
     "data": {
      "image/png": "[encoded data removed]",
      "text/plain": [
       "<Figure size 432x288 with 1 Axes>"
      ]
     },
     "metadata": {},
     "output_type": "display_data"
    }
   ],
   "source": [
    "# HRF functions for simulating the HRF effect in fMRI data\n",
    "from scipy.stats import gamma\n",
    "def hrf(times):\n",
    "    \"\"\" Return values for HRF at given times \"\"\"\n",
    "    # Gamma pdf for the peak\n",
    "    peak_values = gamma.pdf(times, 2.5)\n",
    "    # Gamma pdf for the undershoot\n",
    "    undershoot_values = gamma.pdf(times,2)\n",
    "    # Combine them\n",
    "    values = peak_values - 0.35 * undershoot_values\n",
    "    # Scale max to 0.6\n",
    "    return values / np.max(values)\n",
    "\n",
    "TR =1\n",
    "tr_times = np.arange(0, 6, TR)\n",
    "hrf_at_trs = hrf(tr_times)\n",
    "plt.plot(tr_times, hrf_at_trs)"
   ]
  },
  {
   "cell_type": "code",
   "execution_count": 10,
   "metadata": {
    "collapsed": true
   },
   "outputs": [],
   "source": [
    "def HRF_convolve(H):\n",
    "    s_it=[]\n",
    "    for s in range(n_sbj):\n",
    "        l_it=[]\n",
    "        for l in range(3):\n",
    "            R=[]\n",
    "            for v in range(seq_len):\n",
    "                convolved = np.convolve(H[s,l,:,v], hrf_at_trs)\n",
    "                n_to_remove = len(hrf_at_trs) - 1\n",
    "                convolved = convolved[:-n_to_remove]\n",
    "                R.append(convolved)\n",
    "            l_it.append(R)\n",
    "        s_it.append(l_it)\n",
    "    s_it=np.swapaxes(s_it,2,3)\n",
    "    return s_it"
   ]
  },
  {
   "cell_type": "code",
   "execution_count": 11,
   "metadata": {},
   "outputs": [],
   "source": [
    "H_p_all=HRF_convolve(H_p_all)\n",
    "H_i_all=HRF_convolve(H_i_all)"
   ]
  },
  {
   "cell_type": "code",
   "execution_count": 12,
   "metadata": {
    "collapsed": true
   },
   "outputs": [],
   "source": [
    "H_p_all=np.asarray(H_p_all)\n",
    "H_i_all=np.asarray(H_i_all)"
   ]
  },
  {
   "cell_type": "code",
   "execution_count": 13,
   "metadata": {
    "collapsed": true
   },
   "outputs": [],
   "source": [
    "#reorder function for BA-CA ISPC analysis(neural alignment for same inputs with different context)\n",
    "def BA_CA_reorder(seq_int,seq_scram,H_int,H_scram, filler):\n",
    "    us_H = []\n",
    "    int_H = []\n",
    "    zipped=zip(seq_scram,H_scram)\n",
    "    zipped_int=zip(seq_int,H_int)\n",
    "    zipped=list(zipped)\n",
    "    zipped_int=list(zipped_int)\n",
    "    zipped_removed=list(filter(lambda a: a[0] != 1000, zipped))\n",
    "    zipped_removed_int=list(filter(lambda a: a[0] != 1000 and a[0] != 100, zipped_int))\n",
    "    for k in range(len(zipped_removed_int)):\n",
    "        int_H.append(zipped_removed_int[k][1])\n",
    "    if filler==True:\n",
    "        for i in range(len(zipped_removed)):\n",
    "            if zipped_removed[i-1][0]==100 and zipped_removed[i][0]!=100:\n",
    "                zipped_sorted=sorted(zipped_removed[i:i+seq_len],key = lambda t: t[0])\n",
    "                for j in range(seq_len):\n",
    "                    us_H.append(zipped_sorted[j][1])\n",
    "    if filler==False:\n",
    "        for i in range(0,len(zipped_removed),seq_len):\n",
    "            zipped_sorted=sorted(zipped_removed[i:i+seq_len],key = lambda t: t[0])\n",
    "            for j in range(seq_len):\n",
    "                    us_H.append(zipped_sorted[j][1])\n",
    "                \n",
    "    return int_H,us_H"
   ]
  },
  {
   "cell_type": "code",
   "execution_count": 14,
   "metadata": {
    "collapsed": true
   },
   "outputs": [],
   "source": [
    "#reorder function for AB-AC ISPC analysis(neural separation for different inputs with same context)\n",
    "def AB_AC_reorder(seq_scram,seq_int,H_scram,H_int,para_int, para_scram,seq_len,para_len):\n",
    "\n",
    "    a=[list(a) for a in zip(seq_scram,H_scram)]\n",
    "    b=[list(a) for a in zip(seq_int,H_int)]\n",
    "    filler=[]\n",
    "    for i in range(len(a)):\n",
    "        if a[i][0]==100:\n",
    "            filler.append(i)\n",
    "            \n",
    "    zipped = [i for j, i in enumerate(a) if j not in filler]\n",
    "    zipped_int=[i for j, i in enumerate(b) if j not in filler]\n",
    "    ss = [i for j, i in enumerate (seq_scram) if j not in filler]\n",
    "    si = [i for j, i in enumerate (seq_int) if j not in filler]\n",
    "        \n",
    "    para_num=int(seq_len/para_len)\n",
    "    new_zipped_int=[]\n",
    "    new_zipped=[]\n",
    "\n",
    "    for i in range(0,len(para_scram)):\n",
    "        re = i%para_num\n",
    "        if para_scram[i]!=para_num-1 and re!=para_num-1 and ss[para_len*(i)]+para_len!=ss[para_len*(i+1)]:\n",
    "            new_zipped_int.append(zipped_int[para_len*(para_scram[i]+1):para_len*(para_scram[i]+1)+para_len])\n",
    "            new_zipped.append(zipped[para_len*(i+1):para_len*(i+1)+para_len])\n",
    "\n",
    "    int_new_H=[]\n",
    "    for i in range(len(new_zipped_int)):\n",
    "        for j in range(len(new_zipped_int[0])):\n",
    "            int_new_H.append(new_zipped_int[i][j][1])\n",
    "            \n",
    "    scram_H=[]\n",
    "    for i in range(len(new_zipped)):\n",
    "        for j in range(len(new_zipped[0])):\n",
    "            scram_H.append(new_zipped[i][j][1])\n",
    "\n",
    "    \n",
    "    return scram_H,int_new_H"
   ]
  },
  {
   "cell_type": "code",
   "execution_count": 18,
   "metadata": {
    "collapsed": true
   },
   "outputs": [],
   "source": [
    "#ISPC analysis\n",
    "\n",
    "def ISPC(it_data, uls_data,seg_length): #start and end time within events\n",
    "    n,time,voxel=np.shape(it_data)\n",
    "    ind=np.arange(n)\n",
    "    r_pc_rII,r_pc_rUU,r_pc_rUI,r_pc_rIU=([]for i in range(4)) \n",
    "    for s in range(n):\n",
    "        a = ind[np.arange(len(ind))!= s]\n",
    "        r_seg_rII,r_seg_rUU,r_seg_rUI,r_seg_rIU=([]for i in range(4)) \n",
    "        \n",
    "        for t in range(0,time,seg_length):\n",
    "            r=[]\n",
    "            for i in range(seg_length):\n",
    "                other_rII = np.mean(it_data[a,t+i,:],0)\n",
    "                r.append(np.corrcoef(other_rII,it_data[s,t+i,:])[0][1])\n",
    "            r_seg_rII.append(r)\n",
    "            r=[]\n",
    "            for i in range(seg_length):\n",
    "                other_rUU = np.mean(uls_data[a,t+i,:],0)\n",
    "                r.append(np.corrcoef(other_rUU,uls_data[s,t+i,:])[0][1])\n",
    "            r_seg_rUU.append(r)\n",
    "            r=[]\n",
    "            for i in range(seg_length):\n",
    "                other_rUI = np.mean(it_data[:,t+i,:],0)\n",
    "                r.append(np.corrcoef(other_rUI,uls_data[s,t+i,:])[0][1])\n",
    "            r_seg_rUI.append(r)\n",
    "            r=[]\n",
    "            for i in range(seg_length):\n",
    "                other_rIU = np.mean(uls_data[:,t+i,:],0)\n",
    "                r.append(np.corrcoef(other_rIU,it_data[s,t+i,:])[0][1])\n",
    "            r_seg_rIU.append(r)\n",
    "        r_pc_rII.append(r_seg_rII)\n",
    "        r_pc_rUU.append(r_seg_rUU)\n",
    "        r_pc_rUI.append(r_seg_rUI)\n",
    "        r_pc_rIU.append(r_seg_rIU)\n",
    "    rII = np.mean(r_pc_rII,0)\n",
    "    rUU = np.mean(r_pc_rUU,0)\n",
    "    rUI = np.mean(r_pc_rUI,0)\n",
    "    rIU = np.mean(r_pc_rIU,0)\n",
    "    \n",
    "    return rII, rUU, rUI, rIU"
   ]
  },
  {
   "cell_type": "code",
   "execution_count": 15,
   "metadata": {
    "collapsed": true
   },
   "outputs": [],
   "source": [
    "# cutting off the first two elements since the meaningful hidden units in layer 2&3 starts at time=3\n",
    "test_p_seq=test_scram_seq[2:]\n",
    "test_i_seq=test_int_seq[2:]"
   ]
  },
  {
   "cell_type": "code",
   "execution_count": 16,
   "metadata": {},
   "outputs": [],
   "source": [
    "#reordering process for AB-AC ISPC analysis\n",
    "scram_all = []\n",
    "int_new_all = []\n",
    "\n",
    "for s in range(n_sbj):\n",
    "    us_l=[]\n",
    "    int_l=[]\n",
    "    for l in range(3):\n",
    "        scram_H,int_new_H= AB_AC_reorder(test_p_seq,test_i_seq,H_p_all[s,l,:,:],H_i_all[s,l,:,:],para_int,para_scram,seq_len,para_len)\n",
    "        us_l.append(scram_H)\n",
    "        int_l.append(int_new_H)\n",
    "    scram_all.append(us_l)\n",
    "    int_new_all.append(int_l)\n",
    "scram_all=np.asarray(scram_all)\n",
    "int_new_all=np.asarray(int_new_all)"
   ]
  },
  {
   "cell_type": "code",
   "execution_count": 19,
   "metadata": {
    "collapsed": true
   },
   "outputs": [],
   "source": [
    "def CI(alpha, data):\n",
    "    CI=stats.norm.interval(alpha, loc=np.mean(data), scale=stats.sem(data))\n",
    "    \n",
    "    return (CI[1]-CI[0])/2"
   ]
  },
  {
   "cell_type": "code",
   "execution_count": 20,
   "metadata": {
    "collapsed": true
   },
   "outputs": [],
   "source": [
    "rII1,rSS1,rSI1,_=ISPC(int_H_all[:,0,:,:],us_H_all[:,0,:,:],para_len)\n",
    "rII2,rSS2,rSI2,_=ISPC(int_H_all[:,1,:,:],us_H_all[:,1,:,:],para_len)\n",
    "rII3,rSS3,rSI3,_=ISPC(int_H_all[:,2,:,:],us_H_all[:,2,:,:],para_len)"
   ]
  },
  {
   "cell_type": "code",
   "execution_count": 33,
   "metadata": {},
   "outputs": [
    {
     "data": {
      "image/png": "[encoded data removed]",
      "text/plain": [
       "<Figure size 720x576 with 3 Axes>"
      ]
     },
     "metadata": {},
     "output_type": "display_data"
    }
   ],
   "source": [
    "#visualize the construction curves\n",
    "f, ax = plt.subplots(3, 1, sharey=True,figsize=(10,8))\n",
    "length=para_len\n",
    "ax[0].set_title(\"intact vs. intact\", fontsize=15)\n",
    "ax[0].errorbar(np.arange(length), np.mean(rII1,0)[:length], yerr=CI(0.95,rII1)[:length], label='LEVEL1',linewidth=5, alpha=0.8)\n",
    "ax[0].errorbar(np.arange(length),np.mean(rII2,0)[:length], yerr=CI(0.95,rII2)[:length], label='LEVEL2',linewidth=5, alpha=0.8)\n",
    "ax[0].errorbar(np.arange(length),np.mean(rII3,0)[:length], yerr=CI(0.95,rII3)[:length], label='LEVEL3',linewidth=5, alpha=0.8)\n",
    "ax[0].legend(fontsize=15)\n",
    "ax[1].set_title(\"unscram vs. unscram\", fontsize=15)\n",
    "ax[1].errorbar(np.arange(length), np.mean(rSS1,0)[:length], yerr=CI(0.95,rSS1)[:length], label='LEVEL1',linewidth=5, alpha=0.8)\n",
    "ax[1].errorbar(np.arange(length),np.mean(rSS2,0)[:length], yerr=CI(0.95,rSS2)[:length], label='LEVEL2',linewidth=5, alpha=0.8)\n",
    "ax[1].errorbar(np.arange(length),np.mean(rSS3,0)[:length], yerr=CI(0.95,rSS3)[:length], label='LEVEL3',linewidth=5, alpha=0.8)\n",
    "ax[2].set_title(\"unscram vs. average intact\", fontsize=15)\n",
    "ax[2].errorbar(np.arange(length), np.mean(rSI1,0)[:length], yerr=CI(0.95,rSI1)[:length], label='LEVEL1',linewidth=5, alpha=0.8)\n",
    "ax[2].errorbar(np.arange(length),np.mean(rSI2,0)[:length], yerr=CI(0.95,rSI2)[:length], label='LEVEL2',linewidth=5, alpha=0.8)\n",
    "ax[2].errorbar(np.arange(length),np.mean(rSI3,0)[:length], yerr=CI(0.95,rSI3)[:length], label='LEVEL3',linewidth=5, alpha=0.8)\n",
    "\n",
    "for i in range(3):\n",
    "#     ax[i].legend(fontsize=10)\n",
    "    ax[i].tick_params(labelsize=25)\n",
    "    ax[i].set_yticks(np.arange(0,1,0.5))\n",
    "    ax[i].set_xticks(np.arange(0,length))\n",
    "    ax[i].spines['top'].set_visible(False)\n",
    "    ax[i].spines['right'].set_visible(False)\n",
    "\n",
    "plt.tight_layout()\n",
    "\n",
    "plt.show()"
   ]
  },
  {
   "cell_type": "code",
   "execution_count": 17,
   "metadata": {
    "collapsed": true
   },
   "outputs": [],
   "source": [
    "#reordering process for BA-CA ISPC analysis\n",
    "int_H_all = []\n",
    "us_H_all = []\n",
    "for s in range(n_sbj):\n",
    "    us_l=[]\n",
    "    int_l=[]\n",
    "    for l in range(3):\n",
    "        int_H,us_H= BA_CA_reorder(test_i_seq,test_p_seq,H_i_all[s,l,:,:],H_p_all[s,l,:,:],True)\n",
    "        us_l.append(int_H)\n",
    "        int_l.append(us_H)\n",
    "    int_H_all.append(us_l)\n",
    "    us_H_all.append(int_l)\n",
    "int_H_all=np.asarray(int_H_all)\n",
    "us_H_all=np.asarray(us_H_all)"
   ]
  },
  {
   "cell_type": "code",
   "execution_count": 22,
   "metadata": {
    "collapsed": true,
    "scrolled": true
   },
   "outputs": [],
   "source": [
    "rII1_ABAC,rSS1_ABAC,rSI1_ABAC,_=ISPC(scram_all[:,0,:,:],int_new_all[:,0,:,:],para_len)\n",
    "rII2_ABAC,rSS2_ABAC,rSI2_ABAC,_=ISPC(scram_all[:,1,:,:],int_new_all[:,1,:,:],para_len)\n",
    "rII3_ABAC,rSS3_ABAC,rSI3_ABAC,_=ISPC(scram_all[:,2,:,:],int_new_all[:,2,:,:],para_len)"
   ]
  },
  {
   "cell_type": "code",
   "execution_count": 24,
   "metadata": {},
   "outputs": [
    {
     "data": {
      "image/png": "[encoded data removed]",
      "text/plain": [
       "<Figure size 648x216 with 1 Axes>"
      ]
     },
     "metadata": {},
     "output_type": "display_data"
    }
   ],
   "source": [
    "#visualize the forgetting curves\n",
    "plt.figure(figsize=(9,3))\n",
    "length=para_len\n",
    "plt.errorbar(np.arange(length), np.mean(rSI1_ABAC,0)[:length], yerr=CI(0.95,rSI1_ABAC)[:length], label='LEVEL1',linewidth=5, alpha=0.8)\n",
    "plt.errorbar(np.arange(length),np.mean(rSI2_ABAC,0)[:length], yerr=CI(0.95,rSI2_ABAC)[:length], label='LEVEL2',linewidth=5, alpha=0.8)\n",
    "plt.errorbar(np.arange(length),np.mean(rSI3_ABAC,0)[:length], yerr=CI(0.95,rSI3_ABAC)[:length], label='LEVEL3',linewidth=5, alpha=0.8)\n",
    "\n",
    "ax=plt.gca()\n",
    "# ax.legend(fontsize=10)\n",
    "ax.tick_params(labelsize=25)\n",
    "ax.set_yticks(np.arange(0,1,0.5))\n",
    "ax.set_xticks(np.arange(0,length))\n",
    "ax.spines['top'].set_visible(False)\n",
    "ax.spines['right'].set_visible(False)\n",
    "\n"
   ]
  }
 ],
 "metadata": {
  "kernelspec": {
   "display_name": "Python 3",
   "language": "python",
   "name": "python3"
  },
  "language_info": {
   "codemirror_mode": {
    "name": "ipython",
    "version": 3
   },
   "file_extension": ".py",
   "mimetype": "text/x-python",
   "name": "python",
   "nbconvert_exporter": "python",
   "pygments_lexer": "ipython3",
   "version": "3.6.9"
  }
 },
 "nbformat": 4,
 "nbformat_minor": 2
}
